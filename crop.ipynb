{
  "cells": [
    {
      "cell_type": "markdown",
      "metadata": {
        "id": "view-in-github",
        "colab_type": "text"
      },
      "source": [
        "<a href=\"https://colab.research.google.com/github/Kunalchaudhary1/academicpages.github.io/blob/master/crop.ipynb\" target=\"_parent\"><img src=\"https://colab.research.google.com/assets/colab-badge.svg\" alt=\"Open In Colab\"/></a>"
      ]
    },
    {
      "cell_type": "code",
      "execution_count": 1,
      "metadata": {
        "id": "wXIegswDWSGg",
        "colab": {
          "base_uri": "https://localhost:8080/"
        },
        "outputId": "27a5ee10-4273-4ee3-d56f-fd1038e1ed02"
      },
      "outputs": [
        {
          "output_type": "stream",
          "name": "stdout",
          "text": [
            "cp: cannot stat 'kaggle.json': No such file or directory\n"
          ]
        }
      ],
      "source": [
        "!mkdir -p ~/.kaggle\n",
        "!cp kaggle.json ~/.kaggle/"
      ]
    },
    {
      "cell_type": "code",
      "execution_count": null,
      "metadata": {
        "colab": {
          "base_uri": "https://localhost:8080/"
        },
        "id": "FFlGZmSCWShA",
        "outputId": "d7df2f1f-15ba-4248-b6ce-06f3a666e5a3"
      },
      "outputs": [
        {
          "output_type": "stream",
          "name": "stdout",
          "text": [
            "Warning: Your Kaggle API key is readable by other users on this system! To fix this, you can run 'chmod 600 /root/.kaggle/kaggle.json'\n",
            "Downloading tomato.zip to /content\n",
            "100% 742M/743M [00:26<00:00, 40.2MB/s]\n",
            "100% 743M/743M [00:26<00:00, 29.6MB/s]\n"
          ]
        }
      ],
      "source": [
        "!kaggle datasets download -d noulam/tomato"
      ]
    },
    {
      "cell_type": "code",
      "execution_count": null,
      "metadata": {
        "colab": {
          "base_uri": "https://localhost:8080/"
        },
        "id": "40Bbui6-WSrh",
        "outputId": "51321882-0208-474c-f888-42f418796a99"
      },
      "outputs": [
        {
          "output_type": "execute_result",
          "data": {
            "text/plain": [
              "<bound method ZipFile.close of <zipfile.ZipFile filename='/content/tomato.zip' mode='r'>>"
            ]
          },
          "metadata": {},
          "execution_count": 8
        }
      ],
      "source": [
        "import zipfile\n",
        "zip_ref= zipfile.ZipFile('/content/tomato.zip','r')\n",
        "zip_ref.extractall('/content')\n",
        "zip_ref.close"
      ]
    },
    {
      "cell_type": "code",
      "execution_count": null,
      "metadata": {
        "id": "rEfrFGHeWS2U"
      },
      "outputs": [],
      "source": [
        "import numpy as np\n",
        "import pickle\n",
        "import cv2\n",
        "from os import listdir\n",
        "from sklearn.preprocessing import LabelBinarizer\n",
        "from tensorflow import compat\n",
        "from tensorflow import keras\n",
        "from keras import Sequential\n",
        "from keras.models import Sequential\n",
        "from keras.layers import Dense,Conv2D,MaxPooling2D,Flatten,BatchNormalization,Dropout,Activation\n",
        "from keras import backend as K\n",
        "from keras.preprocessing.image import ImageDataGenerator\n",
        "from keras.optimizers import Adam\n",
        "from keras.preprocessing import image\n",
        "from keras.preprocessing.image import img_to_array\n",
        "from sklearn.preprocessing import MultiLabelBinarizer\n",
        "from sklearn.model_selection import train_test_split\n",
        "import matplotlib.pyplot as plt"
      ]
    },
    {
      "cell_type": "code",
      "execution_count": null,
      "metadata": {
        "id": "uzu4HNoXbFXE"
      },
      "outputs": [],
      "source": [
        "EPOCHS = 35\n",
        "INIT_LR = 1e-3\n",
        "BS = 35\n",
        "default_image_size = tuple((100,100))\n",
        "image_size = 0\n",
        "directory_root = '/content/New Plant Diseases Dataset(Augmented)'\n",
        "width=100\n",
        "height=100\n",
        "depth=3"
      ]
    },
    {
      "cell_type": "code",
      "execution_count": null,
      "metadata": {
        "id": "utD9geXuYA4R"
      },
      "outputs": [],
      "source": [
        "def convert_image_to_array(image_dir):\n",
        "    try:\n",
        "        image = cv2.imread(image_dir)\n",
        "        if image is not None :\n",
        "            image = cv2.resize(image, default_image_size)\n",
        "            return img_to_array(image)\n",
        "        else :\n",
        "            return np.array([])\n",
        "    except Exception as e:\n",
        "        print(f\"Error : {e}\")\n",
        "        return None"
      ]
    },
    {
      "cell_type": "code",
      "execution_count": null,
      "metadata": {
        "colab": {
          "base_uri": "https://localhost:8080/"
        },
        "id": "_RCm-3YSYBV5",
        "outputId": "d542a5c2-53a8-4464-dc8a-e496ec90b4dc"
      },
      "outputs": [
        {
          "output_type": "stream",
          "name": "stdout",
          "text": [
            "[INFO] Loading images ...\n",
            "[INFO] Processing Tomato___Early_blight ...\n",
            "[INFO] Processing Tomato___Spider_mites Two-spotted_spider_mite ...\n",
            "[INFO] Processing Tomato___Tomato_mosaic_virus ...\n",
            "[INFO] Processing Tomato___healthy ...\n",
            "[INFO] Processing Tomato___Septoria_leaf_spot ...\n",
            "[INFO] Processing Tomato___Tomato_Yellow_Leaf_Curl_Virus ...\n",
            "[INFO] Processing Tomato___Target_Spot ...\n",
            "[INFO] Processing Tomato___Leaf_Mold ...\n",
            "[INFO] Processing Tomato___Late_blight ...\n",
            "[INFO] Processing Tomato___Bacterial_spot ...\n",
            "[INFO] Processing Tomato___Early_blight ...\n",
            "[INFO] Processing Tomato___Spider_mites Two-spotted_spider_mite ...\n",
            "[INFO] Processing Tomato___Tomato_mosaic_virus ...\n",
            "[INFO] Processing Tomato___healthy ...\n",
            "[INFO] Processing Tomato___Septoria_leaf_spot ...\n",
            "[INFO] Processing Tomato___Tomato_Yellow_Leaf_Curl_Virus ...\n",
            "[INFO] Processing Tomato___Target_Spot ...\n",
            "[INFO] Processing Tomato___Leaf_Mold ...\n",
            "[INFO] Processing Tomato___Late_blight ...\n",
            "[INFO] Processing Tomato___Bacterial_spot ...\n",
            "[INFO] Image loading completed\n"
          ]
        }
      ],
      "source": [
        "image_list, label_list = [], []\n",
        "try:\n",
        "    print(\"[INFO] Loading images ...\")\n",
        "    root_dir = listdir(directory_root)\n",
        "    for directory in root_dir :\n",
        "        # remove .DS_Store from list\n",
        "        if directory == \".DS_Store\" :\n",
        "            root_dir.remove(directory)\n",
        "\n",
        "    for plant_folder in root_dir :\n",
        "        plant_disease_folder_list = listdir(f\"{directory_root}/{plant_folder}\")\n",
        "\n",
        "        for disease_folder in plant_disease_folder_list :\n",
        "            # remove .DS_Store from list\n",
        "            if disease_folder == \".DS_Store\" :\n",
        "                plant_disease_folder_list.remove(disease_folder)\n",
        "\n",
        "        for plant_disease_folder in plant_disease_folder_list:\n",
        "            print(f\"[INFO] Processing {plant_disease_folder} ...\")\n",
        "            plant_disease_image_list = listdir(f\"{directory_root}/{plant_folder}/{plant_disease_folder}/\")\n",
        "\n",
        "            for single_plant_disease_image in plant_disease_image_list :\n",
        "                if single_plant_disease_image == \".DS_Store\" :\n",
        "                    plant_disease_image_list.remove(single_plant_disease_image)\n",
        "\n",
        "            for image in plant_disease_image_list[:250]:\n",
        "                image_directory = f\"{directory_root}/{plant_folder}/{plant_disease_folder}/{image}\"\n",
        "                if image_directory.endswith(\".jpg\") == True or image_directory.endswith(\".JPG\") == True:\n",
        "                    image_list.append(convert_image_to_array(image_directory))\n",
        "                    label_list.append(plant_disease_folder)\n",
        "    print(\"[INFO] Image loading completed\")\n",
        "except Exception as e:\n",
        "    print(f\"Error : {e}\")"
      ]
    },
    {
      "cell_type": "markdown",
      "metadata": {
        "id": "9sFvH0IKY7pT"
      },
      "source": [
        "get size of processed image"
      ]
    },
    {
      "cell_type": "code",
      "execution_count": null,
      "metadata": {
        "id": "hajIILyeYBiW"
      },
      "outputs": [],
      "source": [
        "image_size = len(image_list)\n"
      ]
    },
    {
      "cell_type": "code",
      "execution_count": null,
      "metadata": {
        "id": "5_6DXlDfZJH0"
      },
      "outputs": [],
      "source": [
        "label_binarizer = LabelBinarizer()\n",
        "image_labels = label_binarizer.fit_transform(label_list)\n",
        "pickle.dump(label_binarizer,open('label_transform.pkl', 'wb'))\n",
        "n_classes = len(label_binarizer.classes_)\n"
      ]
    },
    {
      "cell_type": "code",
      "execution_count": null,
      "metadata": {
        "id": "WfXZnJTrZPGn",
        "colab": {
          "base_uri": "https://localhost:8080/"
        },
        "outputId": "403df723-fac9-489c-8358-1c02c5c3bbc0"
      },
      "outputs": [
        {
          "output_type": "stream",
          "name": "stdout",
          "text": [
            "['Tomato___Bacterial_spot' 'Tomato___Early_blight' 'Tomato___Late_blight'\n",
            " 'Tomato___Leaf_Mold' 'Tomato___Septoria_leaf_spot'\n",
            " 'Tomato___Spider_mites Two-spotted_spider_mite' 'Tomato___Target_Spot'\n",
            " 'Tomato___Tomato_Yellow_Leaf_Curl_Virus' 'Tomato___Tomato_mosaic_virus'\n",
            " 'Tomato___healthy']\n"
          ]
        }
      ],
      "source": [
        "print(label_binarizer.classes_)\n"
      ]
    },
    {
      "cell_type": "code",
      "execution_count": null,
      "metadata": {
        "id": "iWbg4TmAZPRS"
      },
      "outputs": [],
      "source": [
        "np_image_list = np.array(image_list, dtype=np.float16) / 225.0\n",
        "\n"
      ]
    },
    {
      "cell_type": "code",
      "execution_count": null,
      "metadata": {
        "id": "PwMBF7JSZnOf",
        "colab": {
          "base_uri": "https://localhost:8080/"
        },
        "outputId": "7ac861ed-57aa-4d7e-d718-789078402757"
      },
      "outputs": [
        {
          "output_type": "stream",
          "name": "stdout",
          "text": [
            "[INFO] Spliting data to train, test\n"
          ]
        }
      ],
      "source": [
        "print(\"[INFO] Spliting data to train, test\")\n",
        "x_train, x_test, y_train, y_test = train_test_split(np_image_list, image_labels, test_size=0.2, random_state = 42)\n"
      ]
    },
    {
      "cell_type": "code",
      "execution_count": null,
      "metadata": {
        "id": "Q6Razz-kZnY3"
      },
      "outputs": [],
      "source": [
        "aug = ImageDataGenerator(\n",
        "    rotation_range=25, width_shift_range=0.1,\n",
        "    height_shift_range=0.1, shear_range=0.2,\n",
        "    zoom_range=0.2,horizontal_flip=True,\n",
        "    fill_mode=\"nearest\")\n"
      ]
    },
    {
      "cell_type": "code",
      "execution_count": null,
      "metadata": {
        "id": "T5zq-NaVZnfo"
      },
      "outputs": [],
      "source": [
        "model = Sequential()\n",
        "inputShape = (height, width, depth)\n",
        "chanDim = -1\n",
        "if K.image_data_format() == \"channels_first\":\n",
        "    inputShape = (depth, height, width)\n",
        "    chanDim = 1\n",
        "model.add(Conv2D(32, (3, 3), padding=\"same\",input_shape=inputShape))\n",
        "model.add(Activation(\"relu\"))\n",
        "model.add(BatchNormalization(axis=chanDim))\n",
        "model.add(MaxPooling2D(pool_size=(3, 3)))\n",
        "model.add(Dropout(0.1))\n",
        "model.add(Conv2D(64, (3, 3), padding=\"valid\"))\n",
        "model.add(Activation(\"relu\"))\n",
        "model.add(BatchNormalization(axis=chanDim))\n",
        "model.add(Conv2D(64, (3, 3), padding=\"valid\"))\n",
        "model.add(Activation(\"relu\"))\n",
        "model.add(BatchNormalization(axis=chanDim))\n",
        "model.add(Conv2D(64, (3, 3), padding=\"valid\"))\n",
        "model.add(Activation(\"relu\"))\n",
        "model.add(BatchNormalization(axis=chanDim))\n",
        "model.add(MaxPooling2D(pool_size=(2, 2)))\n",
        "model.add(Dropout(0.1))\n",
        "model.add(Conv2D(128, (3, 3), padding=\"valid\"))\n",
        "model.add(Activation(\"relu\"))\n",
        "model.add(BatchNormalization(axis=chanDim))\n",
        "model.add(Conv2D(128, (3, 3), padding=\"same\"))\n",
        "model.add(Activation(\"relu\"))\n",
        "model.add(BatchNormalization(axis=chanDim))\n",
        "model.add(MaxPooling2D(pool_size=(2, 2)))\n",
        "model.add(Dropout(0.10))\n",
        "model.add(Flatten())\n",
        "model.add(Dense(1024))\n",
        "model.add(Activation(\"relu\"))\n",
        "model.add(BatchNormalization())\n",
        "model.add(Dropout(0.20))\n",
        "model.add(Dense(n_classes))\n",
        "model.add(Activation(\"sigmoid\"))\n",
        "\n"
      ]
    },
    {
      "cell_type": "code",
      "execution_count": null,
      "metadata": {
        "id": "hdx5NfIxaEDR",
        "colab": {
          "base_uri": "https://localhost:8080/"
        },
        "outputId": "b4cc077c-3185-4d2a-a989-8b2c9e9d1710"
      },
      "outputs": [
        {
          "output_type": "stream",
          "name": "stdout",
          "text": [
            "Model: \"sequential_2\"\n",
            "_________________________________________________________________\n",
            " Layer (type)                Output Shape              Param #   \n",
            "=================================================================\n",
            " conv2d_12 (Conv2D)          (None, 100, 100, 32)      896       \n",
            "                                                                 \n",
            " activation_16 (Activation)  (None, 100, 100, 32)      0         \n",
            "                                                                 \n",
            " batch_normalization_14 (Ba  (None, 100, 100, 32)      128       \n",
            " tchNormalization)                                               \n",
            "                                                                 \n",
            " max_pooling2d_6 (MaxPoolin  (None, 33, 33, 32)        0         \n",
            " g2D)                                                            \n",
            "                                                                 \n",
            " dropout_8 (Dropout)         (None, 33, 33, 32)        0         \n",
            "                                                                 \n",
            " conv2d_13 (Conv2D)          (None, 31, 31, 64)        18496     \n",
            "                                                                 \n",
            " activation_17 (Activation)  (None, 31, 31, 64)        0         \n",
            "                                                                 \n",
            " batch_normalization_15 (Ba  (None, 31, 31, 64)        256       \n",
            " tchNormalization)                                               \n",
            "                                                                 \n",
            " conv2d_14 (Conv2D)          (None, 29, 29, 64)        36928     \n",
            "                                                                 \n",
            " activation_18 (Activation)  (None, 29, 29, 64)        0         \n",
            "                                                                 \n",
            " batch_normalization_16 (Ba  (None, 29, 29, 64)        256       \n",
            " tchNormalization)                                               \n",
            "                                                                 \n",
            " conv2d_15 (Conv2D)          (None, 27, 27, 64)        36928     \n",
            "                                                                 \n",
            " activation_19 (Activation)  (None, 27, 27, 64)        0         \n",
            "                                                                 \n",
            " batch_normalization_17 (Ba  (None, 27, 27, 64)        256       \n",
            " tchNormalization)                                               \n",
            "                                                                 \n",
            " max_pooling2d_7 (MaxPoolin  (None, 13, 13, 64)        0         \n",
            " g2D)                                                            \n",
            "                                                                 \n",
            " dropout_9 (Dropout)         (None, 13, 13, 64)        0         \n",
            "                                                                 \n",
            " conv2d_16 (Conv2D)          (None, 11, 11, 128)       73856     \n",
            "                                                                 \n",
            " activation_20 (Activation)  (None, 11, 11, 128)       0         \n",
            "                                                                 \n",
            " batch_normalization_18 (Ba  (None, 11, 11, 128)       512       \n",
            " tchNormalization)                                               \n",
            "                                                                 \n",
            " conv2d_17 (Conv2D)          (None, 11, 11, 128)       147584    \n",
            "                                                                 \n",
            " activation_21 (Activation)  (None, 11, 11, 128)       0         \n",
            "                                                                 \n",
            " batch_normalization_19 (Ba  (None, 11, 11, 128)       512       \n",
            " tchNormalization)                                               \n",
            "                                                                 \n",
            " max_pooling2d_8 (MaxPoolin  (None, 5, 5, 128)         0         \n",
            " g2D)                                                            \n",
            "                                                                 \n",
            " dropout_10 (Dropout)        (None, 5, 5, 128)         0         \n",
            "                                                                 \n",
            " flatten_2 (Flatten)         (None, 3200)              0         \n",
            "                                                                 \n",
            " dense_4 (Dense)             (None, 1024)              3277824   \n",
            "                                                                 \n",
            " activation_22 (Activation)  (None, 1024)              0         \n",
            "                                                                 \n",
            " batch_normalization_20 (Ba  (None, 1024)              4096      \n",
            " tchNormalization)                                               \n",
            "                                                                 \n",
            " dropout_11 (Dropout)        (None, 1024)              0         \n",
            "                                                                 \n",
            " dense_5 (Dense)             (None, 10)                10250     \n",
            "                                                                 \n",
            " activation_23 (Activation)  (None, 10)                0         \n",
            "                                                                 \n",
            "=================================================================\n",
            "Total params: 3608778 (13.77 MB)\n",
            "Trainable params: 3605770 (13.75 MB)\n",
            "Non-trainable params: 3008 (11.75 KB)\n",
            "_________________________________________________________________\n"
          ]
        }
      ],
      "source": [
        "model.summary()\n"
      ]
    },
    {
      "cell_type": "code",
      "execution_count": null,
      "metadata": {
        "id": "qyLBv9zIaQ1E"
      },
      "outputs": [],
      "source": [
        "model.compile(optimizer='adam',loss='binary_crossentropy',metrics= ['accuracy'])\n",
        "\n"
      ]
    },
    {
      "cell_type": "code",
      "execution_count": null,
      "metadata": {
        "id": "LhEBZ-JXcbRZ",
        "colab": {
          "base_uri": "https://localhost:8080/"
        },
        "outputId": "ab89e957-2ec4-442f-bf7d-f445bacbf3bb"
      },
      "outputs": [
        {
          "output_type": "stream",
          "name": "stdout",
          "text": [
            "Epoch 1/35\n",
            "114/114 [==============================] - 19s 113ms/step - loss: 0.4761 - accuracy: 0.4560 - val_loss: 0.4002 - val_accuracy: 0.0960\n",
            "Epoch 2/35\n",
            "114/114 [==============================] - 16s 137ms/step - loss: 0.1903 - accuracy: 0.6459 - val_loss: 0.4301 - val_accuracy: 0.1870\n",
            "Epoch 3/35\n",
            "114/114 [==============================] - 14s 120ms/step - loss: 0.1566 - accuracy: 0.7072 - val_loss: 0.6310 - val_accuracy: 0.2010\n",
            "Epoch 4/35\n",
            "114/114 [==============================] - 13s 111ms/step - loss: 0.1259 - accuracy: 0.7745 - val_loss: 0.4126 - val_accuracy: 0.3020\n",
            "Epoch 5/35\n",
            "114/114 [==============================] - 13s 110ms/step - loss: 0.1185 - accuracy: 0.7851 - val_loss: 0.2300 - val_accuracy: 0.6190\n",
            "Epoch 6/35\n",
            "114/114 [==============================] - 13s 114ms/step - loss: 0.1049 - accuracy: 0.8179 - val_loss: 0.1755 - val_accuracy: 0.7090\n",
            "Epoch 7/35\n",
            "114/114 [==============================] - 13s 110ms/step - loss: 0.0980 - accuracy: 0.8303 - val_loss: 0.2654 - val_accuracy: 0.6350\n",
            "Epoch 8/35\n",
            "114/114 [==============================] - 12s 108ms/step - loss: 0.0885 - accuracy: 0.8507 - val_loss: 0.1935 - val_accuracy: 0.7360\n",
            "Epoch 9/35\n",
            "114/114 [==============================] - 12s 109ms/step - loss: 0.0831 - accuracy: 0.8580 - val_loss: 0.3537 - val_accuracy: 0.5780\n",
            "Epoch 10/35\n",
            "114/114 [==============================] - 12s 109ms/step - loss: 0.0787 - accuracy: 0.8557 - val_loss: 0.5037 - val_accuracy: 0.4680\n",
            "Epoch 11/35\n",
            "114/114 [==============================] - 13s 110ms/step - loss: 0.0713 - accuracy: 0.8805 - val_loss: 0.2373 - val_accuracy: 0.6460\n",
            "Epoch 12/35\n",
            "114/114 [==============================] - 12s 109ms/step - loss: 0.0745 - accuracy: 0.8741 - val_loss: 0.5459 - val_accuracy: 0.4640\n",
            "Epoch 13/35\n",
            "114/114 [==============================] - 12s 103ms/step - loss: 0.0697 - accuracy: 0.8845 - val_loss: 0.2435 - val_accuracy: 0.6670\n",
            "Epoch 14/35\n",
            "114/114 [==============================] - 13s 110ms/step - loss: 0.0664 - accuracy: 0.8860 - val_loss: 0.1273 - val_accuracy: 0.7950\n",
            "Epoch 15/35\n",
            "114/114 [==============================] - 14s 123ms/step - loss: 0.0601 - accuracy: 0.9019 - val_loss: 0.1594 - val_accuracy: 0.7460\n",
            "Epoch 16/35\n",
            "114/114 [==============================] - 12s 109ms/step - loss: 0.0575 - accuracy: 0.8994 - val_loss: 0.3227 - val_accuracy: 0.5630\n",
            "Epoch 17/35\n",
            "114/114 [==============================] - 13s 110ms/step - loss: 0.0559 - accuracy: 0.9087 - val_loss: 0.1331 - val_accuracy: 0.7850\n",
            "Epoch 18/35\n",
            "114/114 [==============================] - 12s 106ms/step - loss: 0.0540 - accuracy: 0.9112 - val_loss: 0.4788 - val_accuracy: 0.5540\n",
            "Epoch 19/35\n",
            "114/114 [==============================] - 13s 111ms/step - loss: 0.0512 - accuracy: 0.9158 - val_loss: 0.2688 - val_accuracy: 0.7020\n",
            "Epoch 20/35\n",
            "114/114 [==============================] - 13s 112ms/step - loss: 0.0522 - accuracy: 0.9168 - val_loss: 0.3701 - val_accuracy: 0.5610\n",
            "Epoch 21/35\n",
            "114/114 [==============================] - 13s 110ms/step - loss: 0.0485 - accuracy: 0.9226 - val_loss: 0.1479 - val_accuracy: 0.7790\n",
            "Epoch 22/35\n",
            "114/114 [==============================] - 13s 110ms/step - loss: 0.0442 - accuracy: 0.9276 - val_loss: 0.1048 - val_accuracy: 0.8290\n",
            "Epoch 23/35\n",
            "114/114 [==============================] - 12s 105ms/step - loss: 0.0452 - accuracy: 0.9251 - val_loss: 0.2648 - val_accuracy: 0.7020\n",
            "Epoch 24/35\n",
            "114/114 [==============================] - 12s 108ms/step - loss: 0.0390 - accuracy: 0.9385 - val_loss: 0.3252 - val_accuracy: 0.6090\n",
            "Epoch 25/35\n",
            "114/114 [==============================] - 12s 104ms/step - loss: 0.0405 - accuracy: 0.9352 - val_loss: 0.1701 - val_accuracy: 0.7830\n",
            "Epoch 26/35\n",
            "114/114 [==============================] - 13s 112ms/step - loss: 0.0391 - accuracy: 0.9369 - val_loss: 0.1849 - val_accuracy: 0.7660\n",
            "Epoch 27/35\n",
            "114/114 [==============================] - 13s 110ms/step - loss: 0.0359 - accuracy: 0.9438 - val_loss: 0.3212 - val_accuracy: 0.6950\n",
            "Epoch 28/35\n",
            "114/114 [==============================] - 12s 107ms/step - loss: 0.0371 - accuracy: 0.9412 - val_loss: 0.4292 - val_accuracy: 0.5530\n",
            "Epoch 29/35\n",
            "114/114 [==============================] - 13s 112ms/step - loss: 0.0507 - accuracy: 0.9183 - val_loss: 0.2936 - val_accuracy: 0.6970\n",
            "Epoch 30/35\n",
            "114/114 [==============================] - 13s 112ms/step - loss: 0.0427 - accuracy: 0.9304 - val_loss: 0.1278 - val_accuracy: 0.7970\n",
            "Epoch 31/35\n",
            "114/114 [==============================] - 13s 112ms/step - loss: 0.0364 - accuracy: 0.9415 - val_loss: 0.1894 - val_accuracy: 0.7520\n",
            "Epoch 32/35\n",
            "114/114 [==============================] - 13s 110ms/step - loss: 0.0324 - accuracy: 0.9475 - val_loss: 0.3157 - val_accuracy: 0.6210\n",
            "Epoch 33/35\n",
            "114/114 [==============================] - 12s 109ms/step - loss: 0.0312 - accuracy: 0.9491 - val_loss: 0.1276 - val_accuracy: 0.8090\n",
            "Epoch 34/35\n",
            "114/114 [==============================] - 12s 109ms/step - loss: 0.0285 - accuracy: 0.9564 - val_loss: 0.3640 - val_accuracy: 0.6290\n",
            "Epoch 35/35\n",
            "114/114 [==============================] - 13s 110ms/step - loss: 0.0329 - accuracy: 0.9450 - val_loss: 0.1402 - val_accuracy: 0.8150\n"
          ]
        }
      ],
      "source": [
        "history = model.fit(\n",
        "    aug.flow(x_train, y_train, batch_size=BS),\n",
        "    validation_data=(x_test, y_test),\n",
        "    steps_per_epoch=len(x_train) // BS,\n",
        "    epochs=EPOCHS, verbose=1\n",
        "    )"
      ]
    },
    {
      "cell_type": "code",
      "execution_count": null,
      "metadata": {
        "colab": {
          "base_uri": "https://localhost:8080/"
        },
        "id": "ZKbswpU-fx1x",
        "outputId": "df23c07a-ef85-4d42-a423-26d5fc5d3119"
      },
      "outputs": [
        {
          "output_type": "stream",
          "name": "stdout",
          "text": [
            "[INFO] Calculating model accuracy\n",
            "32/32 [==============================] - 0s 8ms/step - loss: 0.1434 - accuracy: 0.8250\n",
            "Test Accuracy: 82.4999988079071\n"
          ]
        }
      ],
      "source": [
        "print(\"[INFO] Calculating model accuracy\")\n",
        "scores = model.evaluate(x_test, y_test)\n",
        "print(f\"Test Accuracy: {scores[1]*100}\")\n"
      ]
    },
    {
      "cell_type": "code",
      "execution_count": null,
      "metadata": {
        "colab": {
          "base_uri": "https://localhost:8080/"
        },
        "id": "vRu3y4kof4-D",
        "outputId": "5eab35de-b67a-4b1c-d27a-31400ac91761"
      },
      "outputs": [
        {
          "output_type": "stream",
          "name": "stderr",
          "text": [
            "/usr/local/lib/python3.10/dist-packages/keras/src/engine/training.py:3000: UserWarning: You are saving your model as an HDF5 file via `model.save()`. This file format is considered legacy. We recommend using instead the native Keras format, e.g. `model.save('my_model.keras')`.\n",
            "  saving_api.save_model(\n"
          ]
        }
      ],
      "source": [
        "model.save('my_mode.h5')\n"
      ]
    },
    {
      "cell_type": "code",
      "execution_count": null,
      "metadata": {
        "id": "qVJu-Yc2f8vN",
        "colab": {
          "base_uri": "https://localhost:8080/",
          "height": 616
        },
        "outputId": "d9b26081-cb04-4ab3-803a-76206a17bd94"
      },
      "outputs": [
        {
          "output_type": "error",
          "ename": "ValueError",
          "evalue": "ignored",
          "traceback": [
            "\u001b[0;31m---------------------------------------------------------------------------\u001b[0m",
            "\u001b[0;31mValueError\u001b[0m                                Traceback (most recent call last)",
            "\u001b[0;32m<ipython-input-105-28af6715e8f5>\u001b[0m in \u001b[0;36m<cell line: 1>\u001b[0;34m()\u001b[0m\n\u001b[0;32m----> 1\u001b[0;31m \u001b[0mscores\u001b[0m \u001b[0;34m=\u001b[0m \u001b[0mmodel\u001b[0m\u001b[0;34m.\u001b[0m\u001b[0mevaluate\u001b[0m\u001b[0;34m(\u001b[0m\u001b[0mx_train\u001b[0m\u001b[0;34m,\u001b[0m \u001b[0my_train\u001b[0m\u001b[0;34m)\u001b[0m\u001b[0;34m\u001b[0m\u001b[0;34m\u001b[0m\u001b[0m\n\u001b[0m\u001b[1;32m      2\u001b[0m \u001b[0mprint\u001b[0m\u001b[0;34m(\u001b[0m\u001b[0;34mf\"Test Accuracy: {scores[1]*100}\"\u001b[0m\u001b[0;34m)\u001b[0m\u001b[0;34m\u001b[0m\u001b[0;34m\u001b[0m\u001b[0m\n",
            "\u001b[0;32m/usr/local/lib/python3.10/dist-packages/keras/src/utils/traceback_utils.py\u001b[0m in \u001b[0;36merror_handler\u001b[0;34m(*args, **kwargs)\u001b[0m\n\u001b[1;32m     68\u001b[0m             \u001b[0;31m# To get the full stack trace, call:\u001b[0m\u001b[0;34m\u001b[0m\u001b[0;34m\u001b[0m\u001b[0m\n\u001b[1;32m     69\u001b[0m             \u001b[0;31m# `tf.debugging.disable_traceback_filtering()`\u001b[0m\u001b[0;34m\u001b[0m\u001b[0;34m\u001b[0m\u001b[0m\n\u001b[0;32m---> 70\u001b[0;31m             \u001b[0;32mraise\u001b[0m \u001b[0me\u001b[0m\u001b[0;34m.\u001b[0m\u001b[0mwith_traceback\u001b[0m\u001b[0;34m(\u001b[0m\u001b[0mfiltered_tb\u001b[0m\u001b[0;34m)\u001b[0m \u001b[0;32mfrom\u001b[0m \u001b[0;32mNone\u001b[0m\u001b[0;34m\u001b[0m\u001b[0;34m\u001b[0m\u001b[0m\n\u001b[0m\u001b[1;32m     71\u001b[0m         \u001b[0;32mfinally\u001b[0m\u001b[0;34m:\u001b[0m\u001b[0;34m\u001b[0m\u001b[0;34m\u001b[0m\u001b[0m\n\u001b[1;32m     72\u001b[0m             \u001b[0;32mdel\u001b[0m \u001b[0mfiltered_tb\u001b[0m\u001b[0;34m\u001b[0m\u001b[0;34m\u001b[0m\u001b[0m\n",
            "\u001b[0;32m/usr/local/lib/python3.10/dist-packages/keras/src/engine/training.py\u001b[0m in \u001b[0;36mtf__test_function\u001b[0;34m(iterator)\u001b[0m\n\u001b[1;32m     13\u001b[0m                 \u001b[0;32mtry\u001b[0m\u001b[0;34m:\u001b[0m\u001b[0;34m\u001b[0m\u001b[0;34m\u001b[0m\u001b[0m\n\u001b[1;32m     14\u001b[0m                     \u001b[0mdo_return\u001b[0m \u001b[0;34m=\u001b[0m \u001b[0;32mTrue\u001b[0m\u001b[0;34m\u001b[0m\u001b[0;34m\u001b[0m\u001b[0m\n\u001b[0;32m---> 15\u001b[0;31m                     \u001b[0mretval_\u001b[0m \u001b[0;34m=\u001b[0m \u001b[0mag__\u001b[0m\u001b[0;34m.\u001b[0m\u001b[0mconverted_call\u001b[0m\u001b[0;34m(\u001b[0m\u001b[0mag__\u001b[0m\u001b[0;34m.\u001b[0m\u001b[0mld\u001b[0m\u001b[0;34m(\u001b[0m\u001b[0mstep_function\u001b[0m\u001b[0;34m)\u001b[0m\u001b[0;34m,\u001b[0m \u001b[0;34m(\u001b[0m\u001b[0mag__\u001b[0m\u001b[0;34m.\u001b[0m\u001b[0mld\u001b[0m\u001b[0;34m(\u001b[0m\u001b[0mself\u001b[0m\u001b[0;34m)\u001b[0m\u001b[0;34m,\u001b[0m \u001b[0mag__\u001b[0m\u001b[0;34m.\u001b[0m\u001b[0mld\u001b[0m\u001b[0;34m(\u001b[0m\u001b[0miterator\u001b[0m\u001b[0;34m)\u001b[0m\u001b[0;34m)\u001b[0m\u001b[0;34m,\u001b[0m \u001b[0;32mNone\u001b[0m\u001b[0;34m,\u001b[0m \u001b[0mfscope\u001b[0m\u001b[0;34m)\u001b[0m\u001b[0;34m\u001b[0m\u001b[0;34m\u001b[0m\u001b[0m\n\u001b[0m\u001b[1;32m     16\u001b[0m                 \u001b[0;32mexcept\u001b[0m\u001b[0;34m:\u001b[0m\u001b[0;34m\u001b[0m\u001b[0;34m\u001b[0m\u001b[0m\n\u001b[1;32m     17\u001b[0m                     \u001b[0mdo_return\u001b[0m \u001b[0;34m=\u001b[0m \u001b[0;32mFalse\u001b[0m\u001b[0;34m\u001b[0m\u001b[0;34m\u001b[0m\u001b[0m\n",
            "\u001b[0;31mValueError\u001b[0m: in user code:\n\n    File \"/usr/local/lib/python3.10/dist-packages/keras/src/engine/training.py\", line 1972, in test_function  *\n        return step_function(self, iterator)\n    File \"/usr/local/lib/python3.10/dist-packages/keras/src/engine/training.py\", line 1956, in step_function  **\n        outputs = model.distribute_strategy.run(run_step, args=(data,))\n    File \"/usr/local/lib/python3.10/dist-packages/keras/src/engine/training.py\", line 1944, in run_step  **\n        outputs = model.test_step(data)\n    File \"/usr/local/lib/python3.10/dist-packages/keras/src/engine/training.py\", line 1850, in test_step\n        y_pred = self(x, training=False)\n    File \"/usr/local/lib/python3.10/dist-packages/keras/src/utils/traceback_utils.py\", line 70, in error_handler\n        raise e.with_traceback(filtered_tb) from None\n    File \"/usr/local/lib/python3.10/dist-packages/keras/src/engine/input_spec.py\", line 298, in assert_input_compatibility\n        raise ValueError(\n\n    ValueError: Input 0 of layer \"sequential_6\" is incompatible with the layer: expected shape=(None, 150, 150, 3), found shape=(32, 100, 100, 3)\n"
          ]
        }
      ],
      "source": [
        "scores = model.evaluate(x_train, y_train)\n",
        "print(f\"Test Accuracy: {scores[1]*100}\")\n"
      ]
    },
    {
      "cell_type": "code",
      "execution_count": null,
      "metadata": {
        "id": "LhYjT7acgPjm"
      },
      "outputs": [],
      "source": [
        "import keras\n",
        "import cv2\n",
        "import matplotlib.pyplot as plt\n"
      ]
    },
    {
      "cell_type": "code",
      "execution_count": null,
      "metadata": {
        "id": "67I_wVWogQHn"
      },
      "outputs": [],
      "source": [
        "import numpy as np\n",
        "CATEGORIES = ['Tomato___Bacterial_spot','Tomato___Early_blight',\n",
        " 'Tomato___Late_blight' ,'Tomato___Leaf_Mold', 'Tomato___Septoria_leaf_spot',\n",
        " 'Tomato___Spider_mites Two-spotted_spider_mite' ,'Tomato___Target_Spot', 'Tomato___Tomato_Yellow_Leaf_Curl_Virus',\n",
        " 'Tomato___Tomato_mosaic_virus' ,'Tomato___healthy']\n",
        "\n",
        "def image(path):\n",
        "    img = cv2.imread(path)\n",
        "    new_arr = cv2.resize(img,(100, 100))\n",
        "    new_arr = np.array(new_arr/255)\n",
        "    new_arr = new_arr.reshape(-1, 100, 100, 3)\n",
        "    return new_arr\n",
        "\n",
        "model = keras.models.load_model('/content/my_model.h5')\n"
      ]
    },
    {
      "cell_type": "code",
      "execution_count": null,
      "metadata": {
        "id": "sBYEsVophyAI",
        "colab": {
          "base_uri": "https://localhost:8080/"
        },
        "outputId": "176da0c1-bd20-4b4d-d78f-3a426e5ff926"
      },
      "outputs": [
        {
          "output_type": "stream",
          "name": "stdout",
          "text": [
            "1/1 [==============================] - 0s 110ms/step\n",
            "Tomato___Target_Spot\n"
          ]
        }
      ],
      "source": [
        "prediction = model.predict(image('/content/th (1).jpeg'))\n",
        "\n",
        "print(CATEGORIES[prediction.argmax()])\n"
      ]
    }
  ],
  "metadata": {
    "accelerator": "GPU",
    "colab": {
      "provenance": [],
      "gpuType": "T4",
      "authorship_tag": "ABX9TyNJKGfp1cuDMnBoALEWZGwk",
      "include_colab_link": true
    },
    "kernelspec": {
      "display_name": "Python 3",
      "name": "python3"
    },
    "language_info": {
      "name": "python"
    }
  },
  "nbformat": 4,
  "nbformat_minor": 0
}